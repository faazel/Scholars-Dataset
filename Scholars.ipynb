{
 "cells": [
  {
   "cell_type": "code",
   "execution_count": 1,
   "metadata": {},
   "outputs": [],
   "source": [
    "import pandas as pd\n",
    "import numpy as np\n",
    "import requests\n",
    "from pybliometrics.scopus import AuthorRetrieval\n",
    "from pybliometrics.scopus import ScopusSearch\n",
    "from selenium import webdriver\n",
    "from IPython.display import display, Math, Latex\n",
    "import re"
   ]
  },
  {
   "cell_type": "code",
   "execution_count": 4,
   "metadata": {},
   "outputs": [],
   "source": [
    "# This cell and the next one retrieves the names of a faculty's academics.\n",
    "\n",
    "try :\n",
    "    driver = webdriver.Chrome(#path to chromedriver.exe)\n",
    "    urlpage = 'https://isid.research.ac.ir/' \n",
    "    driver.get(urlpage)\n",
    "except NameError : \n",
    "    print (\"Install webdrive properly with pip\")\n",
    "except :\n",
    "    print (\"You do not have chromedriver in your path, or you should use a new version of chromedriver.\\nDownload and unzip it in your desired path : https://chromedriver.chromium.org/\")"
   ]
  },
  {
   "cell_type": "code",
   "execution_count": 5,
   "metadata": {},
   "outputs": [],
   "source": [
    "# Set the ISID page to your desired school and faculty page.\n",
    "\n",
    "content = [i for i in set(map(lambda x : x.get_attribute('href'),driver.find_elements_by_css_selector('a.zar'))) if 'University' not in i]\n",
    "authors = list(map(lambda x : re.findall ('authorId=(\\d+)', requests.get (x).text)[0], content))"
   ]
  },
  {
   "cell_type": "code",
   "execution_count": 6,
   "metadata": {},
   "outputs": [],
   "source": [
    "# This cell makes a dataframe of each scholar's papers. The dataframe includes the paper's title,\n",
    "# the publisher and the number of citations\n",
    "auth_papers = [ScopusSearch('AU-ID  ({})'.format(i),view = 'COMPLETE') for i in authors]\n",
    "auth_papers_dfs = [pd.DataFrame(i.results)[['title','publicationName','citedby_count']] for i in auth_papers]\n",
    "auth_papers_dfss = auth_papers_dfs.copy ()"
   ]
  },
  {
   "cell_type": "code",
   "execution_count": null,
   "metadata": {},
   "outputs": [],
   "source": [
    "# SCImago Journal Rank datas up to 2019\n",
    "df = pd.read_table(\"scimagojr 2019.csv\", sep=\";\")\n",
    "journals = df[['Title','SJR','SJR Best Quartile','H index']]"
   ]
  },
  {
   "cell_type": "code",
   "execution_count": 8,
   "metadata": {},
   "outputs": [],
   "source": [
    "# Adding some journals metrics to authors dataframe\n",
    "auth_metrics = [x.merge(journals,left_on='publicationName' ,right_on='Title',how='left').drop (['Title'], axis=1) for x in auth_papers_dfs]\n",
    "for i in auth_metrics :\n",
    "    i['SJR'].replace(',','.',regex=True,inplace=True)\n",
    "    i['SJR Best Quartile'].replace('Q','',regex=True,inplace=True)\n",
    "    i['SJR'] = pd.to_numeric(i['SJR'], downcast='float')\n",
    "    i['SJR Best Quartile'] = pd.to_numeric(i['SJR Best Quartile'], downcast='float',errors='coerce')\n",
    "    i['citedby_count'] = pd.to_numeric(i['citedby_count'], downcast='float')"
   ]
  },
  {
   "cell_type": "code",
   "execution_count": 9,
   "metadata": {},
   "outputs": [
    {
     "name": "stdout",
     "output_type": "stream",
     "text": [
      "The dataset includes 1965 papers of 38 faculty members of Shiraz School of Pharmacy\n"
     ]
    }
   ],
   "source": [
    "scholars = len(auth_metrics)\n",
    "papers = sum([len(x) for x in auth_metrics])\n",
    "print (\"The dataset includes {papers} papers of {scholars} faculty members of Shiraz School of Pharmacy\".format (papers = papers, scholars = scholars))"
   ]
  },
  {
   "cell_type": "code",
   "execution_count": 27,
   "metadata": {},
   "outputs": [],
   "source": [
    "#n = [[y,x['SJR'].mean(),x['SJR'].std(),x['H index'].mean(),x['H index'].std(),x['PI'].mean(),x['PI'].std(),x['SJR Best Quartile'].mean(),x['SJR Best Quartile'].std()] for y, x in zip(authors,auth_metrics)]\n",
    "#school_metrics = pd.DataFrame (n,columns = ['Scopus ID', 'SJR mean', 'SJR SD', 'H index mean', 'H index SD','PI mean', 'PI SD','SJR Best Quartile mean', 'SJR Best Quartile SD'])"
   ]
  },
  {
   "cell_type": "code",
   "execution_count": null,
   "metadata": {},
   "outputs": [],
   "source": []
  }
 ],
 "metadata": {
  "kernelspec": {
   "display_name": "Python 3",
   "language": "python",
   "name": "python3"
  },
  "language_info": {
   "codemirror_mode": {
    "name": "ipython",
    "version": 3
   },
   "file_extension": ".py",
   "mimetype": "text/x-python",
   "name": "python",
   "nbconvert_exporter": "python",
   "pygments_lexer": "ipython3",
   "version": "3.7.3"
  }
 },
 "nbformat": 4,
 "nbformat_minor": 4
}
